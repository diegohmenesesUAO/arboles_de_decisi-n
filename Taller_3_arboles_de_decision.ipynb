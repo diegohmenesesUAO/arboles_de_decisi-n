{
  "nbformat": 4,
  "nbformat_minor": 0,
  "metadata": {
    "colab": {
      "provenance": []
    },
    "kernelspec": {
      "name": "python3",
      "display_name": "Python 3"
    },
    "language_info": {
      "name": "python"
    }
  },
  "cells": [
    {
      "cell_type": "code",
      "execution_count": 49,
      "metadata": {
        "id": "Q_1st6onGS8d"
      },
      "outputs": [],
      "source": [
        "#importo librerías\n",
        "import pandas as pd\n",
        "from sklearn.preprocessing import LabelEncoder\n",
        "from sklearn.preprocessing import StandardScaler\n",
        "from sklearn.model_selection import train_test_split\n",
        "from sklearn.linear_model import LogisticRegression\n",
        "from sklearn.metrics import confusion_matrix, classification_report, roc_curve, auc\n",
        "import matplotlib.pyplot as plt\n",
        "\n",
        "#Tomo el conjunto de datos que puede descargarse directamente desde el sitio web de UCI Machine Learning\n",
        "url = \"https://archive.ics.uci.edu/ml/machine-learning-databases/breast-cancer-wisconsin/wdbc.data\"\n",
        "\n",
        "column_names = ['ID', 'Diagnosis', 'radius1', 'texture1', 'perimeter1', 'area1', 'smoothness1', 'compactness1',\n",
        "                'concavity1', 'concave_points1', 'symmetry1', 'fractal_dimension1', 'radius2', 'texture2','perimeter2', 'area2', 'smoothness2',\n",
        "                'compactness2', 'concavity2', 'concave_points2', 'symmetry2', 'fractal_dimension2', 'radius3', 'texture3', 'perimeter3',\n",
        "                'area3', 'smoothness3', 'compactness3', 'concavity3', 'concave_points3', 'symmetry3', 'fractal_dimension3']\n",
        "df = pd.read_csv(url, header=None, names=column_names)"
      ]
    },
    {
      "cell_type": "markdown",
      "source": [
        "#**1. Entendimiento de los datos**"
      ],
      "metadata": {
        "id": "SnDclvPkIS-F"
      }
    },
    {
      "cell_type": "code",
      "source": [
        "#Detecto rápidamente posibles problemas de calidad de datos, asegurando que cada columna contenga el tipo de datos esperado para su correcto procesamiento y análisis.\n",
        "df.dtypes"
      ],
      "metadata": {
        "colab": {
          "base_uri": "https://localhost:8080/"
        },
        "id": "Pf4KJ5LCGnKh",
        "outputId": "b682ef05-46bf-42d7-d992-56356c5b6010"
      },
      "execution_count": 50,
      "outputs": [
        {
          "output_type": "execute_result",
          "data": {
            "text/plain": [
              "ID                      int64\n",
              "Diagnosis              object\n",
              "radius1               float64\n",
              "texture1              float64\n",
              "perimeter1            float64\n",
              "area1                 float64\n",
              "smoothness1           float64\n",
              "compactness1          float64\n",
              "concavity1            float64\n",
              "concave_points1       float64\n",
              "symmetry1             float64\n",
              "fractal_dimension1    float64\n",
              "radius2               float64\n",
              "texture2              float64\n",
              "perimeter2            float64\n",
              "area2                 float64\n",
              "smoothness2           float64\n",
              "compactness2          float64\n",
              "concavity2            float64\n",
              "concave_points2       float64\n",
              "symmetry2             float64\n",
              "fractal_dimension2    float64\n",
              "radius3               float64\n",
              "texture3              float64\n",
              "perimeter3            float64\n",
              "area3                 float64\n",
              "smoothness3           float64\n",
              "compactness3          float64\n",
              "concavity3            float64\n",
              "concave_points3       float64\n",
              "symmetry3             float64\n",
              "fractal_dimension3    float64\n",
              "dtype: object"
            ]
          },
          "metadata": {},
          "execution_count": 50
        }
      ]
    },
    {
      "cell_type": "code",
      "source": [
        "#Listo las características disponibles, para facilitar la referencia a columnas específicas para análisis o manipulación de datos,\n",
        "#y para asegurar que las columnas estén nombradas correctamente para su posterior uso en análisis y modelado de datos.\n",
        "df.columns"
      ],
      "metadata": {
        "colab": {
          "base_uri": "https://localhost:8080/"
        },
        "id": "iKLKN6OsH660",
        "outputId": "21a8c934-4ced-40e2-ff2d-98632b7c068c"
      },
      "execution_count": 51,
      "outputs": [
        {
          "output_type": "execute_result",
          "data": {
            "text/plain": [
              "Index(['ID', 'Diagnosis', 'radius1', 'texture1', 'perimeter1', 'area1',\n",
              "       'smoothness1', 'compactness1', 'concavity1', 'concave_points1',\n",
              "       'symmetry1', 'fractal_dimension1', 'radius2', 'texture2', 'perimeter2',\n",
              "       'area2', 'smoothness2', 'compactness2', 'concavity2', 'concave_points2',\n",
              "       'symmetry2', 'fractal_dimension2', 'radius3', 'texture3', 'perimeter3',\n",
              "       'area3', 'smoothness3', 'compactness3', 'concavity3', 'concave_points3',\n",
              "       'symmetry3', 'fractal_dimension3'],\n",
              "      dtype='object')"
            ]
          },
          "metadata": {},
          "execution_count": 51
        }
      ]
    },
    {
      "cell_type": "code",
      "source": [
        "#Procedemos con el método info, con el objetivo de buscar valores nulos en alguna de las variables del dataset:\n",
        "df.info()"
      ],
      "metadata": {
        "colab": {
          "base_uri": "https://localhost:8080/"
        },
        "id": "6ts5vEB_Njzd",
        "outputId": "c2094d76-82c8-49f6-8541-75134ed37028"
      },
      "execution_count": 52,
      "outputs": [
        {
          "output_type": "stream",
          "name": "stdout",
          "text": [
            "<class 'pandas.core.frame.DataFrame'>\n",
            "RangeIndex: 569 entries, 0 to 568\n",
            "Data columns (total 32 columns):\n",
            " #   Column              Non-Null Count  Dtype  \n",
            "---  ------              --------------  -----  \n",
            " 0   ID                  569 non-null    int64  \n",
            " 1   Diagnosis           569 non-null    object \n",
            " 2   radius1             569 non-null    float64\n",
            " 3   texture1            569 non-null    float64\n",
            " 4   perimeter1          569 non-null    float64\n",
            " 5   area1               569 non-null    float64\n",
            " 6   smoothness1         569 non-null    float64\n",
            " 7   compactness1        569 non-null    float64\n",
            " 8   concavity1          569 non-null    float64\n",
            " 9   concave_points1     569 non-null    float64\n",
            " 10  symmetry1           569 non-null    float64\n",
            " 11  fractal_dimension1  569 non-null    float64\n",
            " 12  radius2             569 non-null    float64\n",
            " 13  texture2            569 non-null    float64\n",
            " 14  perimeter2          569 non-null    float64\n",
            " 15  area2               569 non-null    float64\n",
            " 16  smoothness2         569 non-null    float64\n",
            " 17  compactness2        569 non-null    float64\n",
            " 18  concavity2          569 non-null    float64\n",
            " 19  concave_points2     569 non-null    float64\n",
            " 20  symmetry2           569 non-null    float64\n",
            " 21  fractal_dimension2  569 non-null    float64\n",
            " 22  radius3             569 non-null    float64\n",
            " 23  texture3            569 non-null    float64\n",
            " 24  perimeter3          569 non-null    float64\n",
            " 25  area3               569 non-null    float64\n",
            " 26  smoothness3         569 non-null    float64\n",
            " 27  compactness3        569 non-null    float64\n",
            " 28  concavity3          569 non-null    float64\n",
            " 29  concave_points3     569 non-null    float64\n",
            " 30  symmetry3           569 non-null    float64\n",
            " 31  fractal_dimension3  569 non-null    float64\n",
            "dtypes: float64(30), int64(1), object(1)\n",
            "memory usage: 142.4+ KB\n"
          ]
        }
      ]
    },
    {
      "cell_type": "markdown",
      "source": [
        "## **Análisis del anterior resultado**\n",
        "Cada columna tiene datos, lo que indica que no hay necesidad de tratar con valores faltantes en este conjunto de datos. Además, la mayoría de las variables son de tipo float64, lo que sugiere que son numéricas y cuantitativas, con la excepción de una columna de identificación (ID) que es de tipo int64 y una columna categórica (Diagnosis) de tipo object. Este conjunto de datos estaría listo para análisis y modelado sin necesidad de limpieza adicional para valores nulos."
      ],
      "metadata": {
        "id": "Mo-O8HqFRIHR"
      }
    },
    {
      "cell_type": "markdown",
      "source": [
        "#**2. Preprocesamiento de Datos**"
      ],
      "metadata": {
        "id": "kfNHZUv3VSE0"
      }
    },
    {
      "cell_type": "markdown",
      "source": [],
      "metadata": {
        "id": "1rEXv9-VVPQW"
      }
    },
    {
      "cell_type": "code",
      "source": [
        "# Codificación de la columna 'Diagnosis'\n",
        "#La variable Diagnosis es categórica y debe convertirse a un formato numérico para que los algoritmos de machine learning puedan trabajar con ella.\n",
        "le = LabelEncoder()\n",
        "df['Diagnosis'] = le.fit_transform(df['Diagnosis'])  # Transforma M/B en 1/0"
      ],
      "metadata": {
        "id": "3HLwz1zwU4OP"
      },
      "execution_count": 53,
      "outputs": []
    },
    {
      "cell_type": "code",
      "source": [
        "#Normalización de las Características\n",
        "#Las características numéricas deben estar en una escala similar, especialmente para algoritmos que dependen de la distancia entre los puntos de datos.\n",
        "# Separar las características y el target\n",
        "X = df.drop(['ID', 'Diagnosis'], axis=1)\n",
        "y = df['Diagnosis']\n",
        "\n",
        "# Normalización\n",
        "scaler = StandardScaler()\n",
        "X_scaled = scaler.fit_transform(X)\n",
        "\n",
        "# Convertir de nuevo a DataFrame para facilitar el manejo posterior\n",
        "X_scaled_df = pd.DataFrame(X_scaled, columns=X.columns)"
      ],
      "metadata": {
        "id": "7ZFz7J3mVdmN"
      },
      "execution_count": 54,
      "outputs": []
    },
    {
      "cell_type": "code",
      "source": [
        "#División del Dataset en Conjuntos de Entrenamiento y Prueba\n",
        "#Siguiente paso sería  evaluar el rendimiento del modelo.\n",
        "X_train, X_test, y_train, y_test = train_test_split(X_scaled_df, y, test_size=0.2, random_state=42)"
      ],
      "metadata": {
        "id": "QT8wi6wYYw5n"
      },
      "execution_count": 55,
      "outputs": []
    },
    {
      "cell_type": "markdown",
      "source": [
        "##**3. Evaluación de modelos**"
      ],
      "metadata": {
        "id": "YBvJNWHYZrCD"
      }
    },
    {
      "cell_type": "code",
      "source": [
        "# Entrenar el modelo\n",
        "model = LogisticRegression()\n",
        "model.fit(X_train, y_train)"
      ],
      "metadata": {
        "colab": {
          "base_uri": "https://localhost:8080/",
          "height": 75
        },
        "id": "rsZaPYEkZ9PB",
        "outputId": "25e3e36d-e1ea-4c6f-f391-956b842349b9"
      },
      "execution_count": 56,
      "outputs": [
        {
          "output_type": "execute_result",
          "data": {
            "text/plain": [
              "LogisticRegression()"
            ],
            "text/html": [
              "<style>#sk-container-id-2 {color: black;background-color: white;}#sk-container-id-2 pre{padding: 0;}#sk-container-id-2 div.sk-toggleable {background-color: white;}#sk-container-id-2 label.sk-toggleable__label {cursor: pointer;display: block;width: 100%;margin-bottom: 0;padding: 0.3em;box-sizing: border-box;text-align: center;}#sk-container-id-2 label.sk-toggleable__label-arrow:before {content: \"▸\";float: left;margin-right: 0.25em;color: #696969;}#sk-container-id-2 label.sk-toggleable__label-arrow:hover:before {color: black;}#sk-container-id-2 div.sk-estimator:hover label.sk-toggleable__label-arrow:before {color: black;}#sk-container-id-2 div.sk-toggleable__content {max-height: 0;max-width: 0;overflow: hidden;text-align: left;background-color: #f0f8ff;}#sk-container-id-2 div.sk-toggleable__content pre {margin: 0.2em;color: black;border-radius: 0.25em;background-color: #f0f8ff;}#sk-container-id-2 input.sk-toggleable__control:checked~div.sk-toggleable__content {max-height: 200px;max-width: 100%;overflow: auto;}#sk-container-id-2 input.sk-toggleable__control:checked~label.sk-toggleable__label-arrow:before {content: \"▾\";}#sk-container-id-2 div.sk-estimator input.sk-toggleable__control:checked~label.sk-toggleable__label {background-color: #d4ebff;}#sk-container-id-2 div.sk-label input.sk-toggleable__control:checked~label.sk-toggleable__label {background-color: #d4ebff;}#sk-container-id-2 input.sk-hidden--visually {border: 0;clip: rect(1px 1px 1px 1px);clip: rect(1px, 1px, 1px, 1px);height: 1px;margin: -1px;overflow: hidden;padding: 0;position: absolute;width: 1px;}#sk-container-id-2 div.sk-estimator {font-family: monospace;background-color: #f0f8ff;border: 1px dotted black;border-radius: 0.25em;box-sizing: border-box;margin-bottom: 0.5em;}#sk-container-id-2 div.sk-estimator:hover {background-color: #d4ebff;}#sk-container-id-2 div.sk-parallel-item::after {content: \"\";width: 100%;border-bottom: 1px solid gray;flex-grow: 1;}#sk-container-id-2 div.sk-label:hover label.sk-toggleable__label {background-color: #d4ebff;}#sk-container-id-2 div.sk-serial::before {content: \"\";position: absolute;border-left: 1px solid gray;box-sizing: border-box;top: 0;bottom: 0;left: 50%;z-index: 0;}#sk-container-id-2 div.sk-serial {display: flex;flex-direction: column;align-items: center;background-color: white;padding-right: 0.2em;padding-left: 0.2em;position: relative;}#sk-container-id-2 div.sk-item {position: relative;z-index: 1;}#sk-container-id-2 div.sk-parallel {display: flex;align-items: stretch;justify-content: center;background-color: white;position: relative;}#sk-container-id-2 div.sk-item::before, #sk-container-id-2 div.sk-parallel-item::before {content: \"\";position: absolute;border-left: 1px solid gray;box-sizing: border-box;top: 0;bottom: 0;left: 50%;z-index: -1;}#sk-container-id-2 div.sk-parallel-item {display: flex;flex-direction: column;z-index: 1;position: relative;background-color: white;}#sk-container-id-2 div.sk-parallel-item:first-child::after {align-self: flex-end;width: 50%;}#sk-container-id-2 div.sk-parallel-item:last-child::after {align-self: flex-start;width: 50%;}#sk-container-id-2 div.sk-parallel-item:only-child::after {width: 0;}#sk-container-id-2 div.sk-dashed-wrapped {border: 1px dashed gray;margin: 0 0.4em 0.5em 0.4em;box-sizing: border-box;padding-bottom: 0.4em;background-color: white;}#sk-container-id-2 div.sk-label label {font-family: monospace;font-weight: bold;display: inline-block;line-height: 1.2em;}#sk-container-id-2 div.sk-label-container {text-align: center;}#sk-container-id-2 div.sk-container {/* jupyter's `normalize.less` sets `[hidden] { display: none; }` but bootstrap.min.css set `[hidden] { display: none !important; }` so we also need the `!important` here to be able to override the default hidden behavior on the sphinx rendered scikit-learn.org. See: https://github.com/scikit-learn/scikit-learn/issues/21755 */display: inline-block !important;position: relative;}#sk-container-id-2 div.sk-text-repr-fallback {display: none;}</style><div id=\"sk-container-id-2\" class=\"sk-top-container\"><div class=\"sk-text-repr-fallback\"><pre>LogisticRegression()</pre><b>In a Jupyter environment, please rerun this cell to show the HTML representation or trust the notebook. <br />On GitHub, the HTML representation is unable to render, please try loading this page with nbviewer.org.</b></div><div class=\"sk-container\" hidden><div class=\"sk-item\"><div class=\"sk-estimator sk-toggleable\"><input class=\"sk-toggleable__control sk-hidden--visually\" id=\"sk-estimator-id-2\" type=\"checkbox\" checked><label for=\"sk-estimator-id-2\" class=\"sk-toggleable__label sk-toggleable__label-arrow\">LogisticRegression</label><div class=\"sk-toggleable__content\"><pre>LogisticRegression()</pre></div></div></div></div></div>"
            ]
          },
          "metadata": {},
          "execution_count": 56
        }
      ]
    },
    {
      "cell_type": "code",
      "source": [
        "#Predicción con el Conjunto de Prueba, una vez entrenado el modelo, realizo las predicciones sobre el conjunto de prueba.\n",
        "y_pred = model.predict(X_test)"
      ],
      "metadata": {
        "id": "sP-GQPV6aBnx"
      },
      "execution_count": 57,
      "outputs": []
    },
    {
      "cell_type": "code",
      "source": [
        "#Matriz de Confusión, está matriz  me permite visualizar el desempeño del algoritmo de clasificación.\n",
        "conf_matrix = confusion_matrix(y_test, y_pred)\n",
        "print(conf_matrix)"
      ],
      "metadata": {
        "colab": {
          "base_uri": "https://localhost:8080/"
        },
        "id": "WUIzKre1aHAr",
        "outputId": "66821bf3-7cad-48a3-cbac-8e9ac3ada0bb"
      },
      "execution_count": 59,
      "outputs": [
        {
          "output_type": "stream",
          "name": "stdout",
          "text": [
            "[[70  1]\n",
            " [ 2 41]]\n"
          ]
        }
      ]
    },
    {
      "cell_type": "code",
      "source": [
        "#Reporte de Clasificación, este reporte me genera la clasificación, las métricas clave sobre la precisión, la sensibilidad, la especificidad, la puntuación F1, etc\n",
        "print(classification_report(y_test, y_pred))"
      ],
      "metadata": {
        "colab": {
          "base_uri": "https://localhost:8080/"
        },
        "id": "8Pa-ECClaRcG",
        "outputId": "7543c6ac-85f7-4c7a-f71a-d41075b8edb2"
      },
      "execution_count": 61,
      "outputs": [
        {
          "output_type": "stream",
          "name": "stdout",
          "text": [
            "              precision    recall  f1-score   support\n",
            "\n",
            "           0       0.97      0.99      0.98        71\n",
            "           1       0.98      0.95      0.96        43\n",
            "\n",
            "    accuracy                           0.97       114\n",
            "   macro avg       0.97      0.97      0.97       114\n",
            "weighted avg       0.97      0.97      0.97       114\n",
            "\n"
          ]
        }
      ]
    },
    {
      "cell_type": "markdown",
      "source": [
        "## **Análisis del resultado anterior**\n",
        "### El modelo de clasificación está realizando un trabajo excelente al identificar y clasificar las muestras en ambas clases. Los valores de precisión y recall altos en ambas clases sugieren que el modelo es confiable y hace pocas predicciones falsas, tanto en términos de falsos positivos como de falsos negativos. La alta puntuación F1 para ambas clases indica un buen balance entre la precisión y el recall, lo cual es importante como se mencionó en la última clase sincrónica, en donde este tipo de aplicaciones médicas sugieren tan cuidado para las personas sanas o que tienen la enfermedad."
      ],
      "metadata": {
        "id": "JUDIorrqdVTT"
      }
    },
    {
      "cell_type": "code",
      "source": [
        "#Curva ROC y Área Bajo la Curva (AUC)\n",
        "#Con esto puedo comparar la tasa de verdaderos positivos con la tasa de falsos positivos.\n",
        "#El AUC resume la curva ROC en un solo valor, indicando el rendimiento general del modelo.\n",
        "y_pred_proba = model.predict_proba(X_test)[:,1]\n",
        "fpr, tpr, thresholds = roc_curve(y_test, y_pred_proba)\n",
        "roc_auc = auc(fpr, tpr)\n",
        "\n",
        "plt.figure()\n",
        "plt.plot(fpr, tpr, color='darkorange', lw=2, label='ROC curve (area = %0.2f)' % roc_auc)\n",
        "plt.plot([0, 1], [0, 1], color='navy', lw=2, linestyle='--')\n",
        "plt.xlim([0.0, 1.0])\n",
        "plt.ylim([0.0, 1.05])\n",
        "plt.xlabel('False Positive Rate')\n",
        "plt.ylabel('True Positive Rate')\n",
        "plt.title('Receiver Operating Characteristic')\n",
        "plt.legend(loc=\"lower right\")\n",
        "plt.show()"
      ],
      "metadata": {
        "colab": {
          "base_uri": "https://localhost:8080/",
          "height": 472
        },
        "id": "4lOYdTV-aVkV",
        "outputId": "266895f8-135e-4d44-80de-04dd3e6c5e4e"
      },
      "execution_count": 62,
      "outputs": [
        {
          "output_type": "display_data",
          "data": {
            "text/plain": [
              "<Figure size 640x480 with 1 Axes>"
            ],
            "image/png": "[encoded data removed]"
          },
          "metadata": {}
        }
      ]
    },
    {
      "cell_type": "markdown",
      "source": [
        "## **Análisis del resultado anterior**\n",
        "### La curva ROC muestra un área bajo la curva (AUC) de 1.00. Esto indica que el modelo de clasificación tiene un rendimiento perfecto, distinguiendo entre las clases positivas y negativas sin errores."
      ],
      "metadata": {
        "id": "RJS80Zgfbqpp"
      }
    },
    {
      "cell_type": "markdown",
      "source": [
        "#**Reflexión, ventajas de los árboles de decisión y los métodos de ensamble en contextos de aprendizaje supervisado.**\n",
        "\n",
        "###Los árboles de decisión son como mapas sencillos que nos muestran cómo se toma una decisión paso a paso. Son fáciles de entender y pueden trabajar con diferentes tipos de datos. Los métodos de ensamble combinan muchos árboles de decisión para hacer predicciones más fuertes y confiables, como un equipo de expertos trabajando juntos en lugar de solo uno.\n"
      ],
      "metadata": {
        "id": "eEhLCM_zlqv6"
      }
    }
  ]
}